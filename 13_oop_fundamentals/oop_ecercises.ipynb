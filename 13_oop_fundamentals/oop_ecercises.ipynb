{
 "cells": [
  {
   "cell_type": "code",
   "execution_count": 31,
   "metadata": {},
   "outputs": [
    {
     "name": "stdout",
     "output_type": "stream",
     "text": [
      "Wellcome to momma's kitchen! We serve the best Mecxikan food in town!\n"
     ]
    }
   ],
   "source": [
    "class Resturant:\n",
    "    def __init__ (self, name, cuisine_type):\n",
    "        self.name = name \n",
    "        self.cuisine_type = cuisine_type \n",
    "    def open_rustrant(self):\n",
    "        return f\"{self.name} is now open!\"\n",
    "my_rustrant = Resturant(\"momma's kitchen\", \"Mecxikan\")\n",
    "print(f\"Wellcome to {my_rustrant.name}! We serve the best {my_rustrant.cuisine_type} food in town!\")"
   ]
  },
  {
   "cell_type": "markdown",
   "metadata": {},
   "source": [
    "- här gömmer vi värdet i objekten, så när man kör koden kommer python vissa error.\n",
    "- vi kan göra att en vissa användare har åtkoms/tillgång till objektet i ckalssen (tree)."
   ]
  },
  {
   "cell_type": "code",
   "execution_count": null,
   "metadata": {},
   "outputs": [],
   "source": [
    "class tree:\n",
    "    def __init__(self, height):\n",
    "        self.__height = height\n",
    "\n",
    "pine = tree(30)\n",
    "pine.__height"
   ]
  },
  {
   "cell_type": "code",
   "execution_count": null,
   "metadata": {},
   "outputs": [],
   "source": [
    "attributeError: 'tree' object has no attribute '__height':"
   ]
  },
  {
   "cell_type": "code",
   "execution_count": null,
   "metadata": {},
   "outputs": [],
   "source": [
    "class tree:\n",
    "    def __init__(self, height):\n",
    "        self.__height = height\n",
    "\n",
    "    def get_height(self):\n",
    "        return self.__height\n",
    "    \n",
    "    def set_height(self, new_height):\n",
    "        if not isinstance(new_height, (int)):\n",
    "            raise TypeError (\"Tree height must be an integer\")\n",
    "        if 0 <new_height <= 40:\n",
    "            self.__height = new_height \n",
    "        else:\n",
    "            raise ValueError (\"invlaid height for a pine tree\")\n",
    "        \n",
    "pine = tree(30)\n",
    "pine.set_height(\"Password\")\n",
    "pine.get_height()"
   ]
  }
 ],
 "metadata": {
  "kernelspec": {
   "display_name": ".venv",
   "language": "python",
   "name": "python3"
  },
  "language_info": {
   "codemirror_mode": {
    "name": "ipython",
    "version": 3
   },
   "file_extension": ".py",
   "mimetype": "text/x-python",
   "name": "python",
   "nbconvert_exporter": "python",
   "pygments_lexer": "ipython3",
   "version": "3.12.10"
  }
 },
 "nbformat": 4,
 "nbformat_minor": 2
}
