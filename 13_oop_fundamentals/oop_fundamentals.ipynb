{
 "cells": [
  {
   "cell_type": "markdown",
   "metadata": {},
   "source": [
    "# oop fundamentals \n",
    "\n",
    "- object oriented programming (OOP)"
   ]
  },
  {
   "cell_type": "code",
   "execution_count": 9,
   "metadata": {},
   "outputs": [
    {
     "name": "stdout",
     "output_type": "stream",
     "text": [
      "dunder init running \n"
     ]
    },
    {
     "data": {
      "text/plain": [
       "'Ceda'"
      ]
     },
     "execution_count": 9,
     "metadata": {},
     "output_type": "execute_result"
    }
   ],
   "source": [
    "# define a class with name Admission\n",
    "class Admission:\n",
    "    # dunder init - initializer - note 2 underscors befor and after init\n",
    "    # this method will be run when you instantiate an instance from this class \n",
    "    def __init__ (self, school, name, program = \"cool program\"):\n",
    "        print(\"dunder init running \")\n",
    "        \n",
    "        # set the attributes to the valuse from the arguments \n",
    "        self.school = school\n",
    "        self.name = name \n",
    "        self.program = program\n",
    "\n",
    "# instantiaste this peroson1 that is of type Adimssion\n",
    "person1 = Admission(\"SIT\", \"Ceda\")\n",
    "\n",
    "person1.school\n",
    "person1.name "
   ]
  },
  {
   "cell_type": "code",
   "execution_count": 10,
   "metadata": {},
   "outputs": [
    {
     "data": {
      "text/plain": [
       "'cool program'"
      ]
     },
     "execution_count": 10,
     "metadata": {},
     "output_type": "execute_result"
    }
   ],
   "source": [
    "person1.program"
   ]
  },
  {
   "cell_type": "code",
   "execution_count": 11,
   "metadata": {},
   "outputs": [
    {
     "name": "stdout",
     "output_type": "stream",
     "text": [
      "dunder init running \n"
     ]
    },
    {
     "data": {
      "text/plain": [
       "'java'"
      ]
     },
     "execution_count": 11,
     "metadata": {},
     "output_type": "execute_result"
    }
   ],
   "source": [
    "person2 = Admission(name = \"johnny\", school = \"cool school\", program = \"java\")\n",
    "person2.program"
   ]
  },
  {
   "cell_type": "markdown",
   "metadata": {},
   "source": [
    "## note on memory \n",
    "\n",
    "by default, the \\_ \\_reper\\_\\_ of an instance is showing the memory address of wher the instance live\n",
    " \n",
    "- each instance of the class lives in different memory address\n",
    "    -"
   ]
  },
  {
   "cell_type": "code",
   "execution_count": 14,
   "metadata": {},
   "outputs": [
    {
     "data": {
      "text/plain": [
       "(<__main__.Admission at 0x105a1d670>, <__main__.Admission at 0x105a1dc40>)"
      ]
     },
     "execution_count": 14,
     "metadata": {},
     "output_type": "execute_result"
    }
   ],
   "source": [
    "person1, person2"
   ]
  },
  {
   "cell_type": "code",
   "execution_count": 15,
   "metadata": {},
   "outputs": [
    {
     "name": "stdout",
     "output_type": "stream",
     "text": [
      "dunder init running \n"
     ]
    }
   ],
   "source": [
    "person3 =  Admission(name = \"johnny\", school = \"cool school\", program = \"java\")"
   ]
  },
  {
   "cell_type": "code",
   "execution_count": null,
   "metadata": {},
   "outputs": [],
   "source": []
  },
  {
   "cell_type": "markdown",
   "metadata": {},
   "source": [
    "##\\_\\_reper\\_\\_ -dunder repper method \n",
    "\n",
    "- method to represent your class to other developer\n",
    "- usually: describe how to "
   ]
  }
 ],
 "metadata": {
  "kernelspec": {
   "display_name": ".venv",
   "language": "python",
   "name": "python3"
  },
  "language_info": {
   "codemirror_mode": {
    "name": "ipython",
    "version": 3
   },
   "file_extension": ".py",
   "mimetype": "text/x-python",
   "name": "python",
   "nbconvert_exporter": "python",
   "pygments_lexer": "ipython3",
   "version": "3.12.10"
  }
 },
 "nbformat": 4,
 "nbformat_minor": 2
}
