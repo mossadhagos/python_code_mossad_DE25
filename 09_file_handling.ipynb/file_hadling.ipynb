{
 "cells": [
  {
   "cell_type": "markdown",
   "metadata": {},
   "source": [
    "## file handling \n",
    "- reading text files (.txt)\n",
    "- we need to\n",
    "    -read the file\n",
    "    - clean contents\n",
    "    - write the cleaned contents to new filw\n",
    "- we foucus now on text/string "
   ]
  },
  {
   "cell_type": "markdown",
   "metadata": {},
   "source": [
    "# read file \n",
    "open the file directly"
   ]
  },
  {
   "cell_type": "code",
   "execution_count": 8,
   "metadata": {},
   "outputs": [
    {
     "name": "stdout",
     "output_type": "stream",
     "text": [
      "<_io.TextIOWrapper name='test.txt' mode='r' encoding='UTF-8'>\n",
      "jag är best \n",
      "jag är hemd \n",
      "jag är batman \n"
     ]
    }
   ],
   "source": [
    "# open the file \n",
    "f = open(\"test.txt\", \"r\") # the first argument is a path!\n",
    "print(f)\n",
    "\n",
    "# save the content of the file into a variable \n",
    "text = f.read()\n",
    "print(text)\n",
    "\n",
    "# close the file\n",
    "f.close()"
   ]
  },
  {
   "cell_type": "markdown",
   "metadata": {},
   "source": [
    "# open the file with (with) statement\n"
   ]
  },
  {
   "cell_type": "code",
   "execution_count": 9,
   "metadata": {},
   "outputs": [
    {
     "name": "stdout",
     "output_type": "stream",
     "text": [
      "jag är best \n",
      "jag är hemd \n",
      "jag är batman \n"
     ]
    }
   ],
   "source": [
    "with open(\"test.txt\", \"r\") as f:\n",
    "    text = f.read()\n",
    "    print(text)\n",
    "    # with statement automatically closes the file"
   ]
  },
  {
   "cell_type": "markdown",
   "metadata": {},
   "source": [
    "### clean the quotes file "
   ]
  },
  {
   "cell_type": "code",
   "execution_count": 1,
   "metadata": {},
   "outputs": [],
   "source": [
    "# we will use re (regular expressions) to clean strings \n",
    "import re"
   ]
  },
  {
   "cell_type": "code",
   "execution_count": 2,
   "metadata": {},
   "outputs": [],
   "source": [
    "## create an empty list for saving quotes \n",
    "\n",
    "quote = []\n",
    "\n",
    "# initiate a quote number \n",
    "i = 1 "
   ]
  },
  {
   "cell_type": "code",
   "execution_count": 10,
   "metadata": {},
   "outputs": [
    {
     "name": "stdout",
     "output_type": "stream",
     "text": [
      "<_io.TextIOWrapper name='quotes.txt' mode='r' encoding='UTF-8'>\n",
      "  If     we     knew what it was      we were doing, it would not be called research,          would it?     - Albert Einstein\n",
      "\n",
      "Time is a drug. Too       much of it kills you.  -  Terry Pratchett\n",
      "\n",
      "\n",
      " An expert is a person who       has made all the mistakes that           can be made in a          very narrow field - Niels Bohr\n",
      "\n",
      "   Everything must be made as simple as possible. But not simpler. - Albert Einstein     \n",
      "\n",
      "\n",
      "  Nothing in life                is to be feared, it is only to be understood. Now is the time to understand more, so that we may fear less. - Marie  Curie  \n",
      "\n",
      "If I have seen further     it is by standing on the shoulders of Giants. - Isaac Newton\n"
     ]
    }
   ],
   "source": [
    "# open the file \n",
    "# compering the use of absolute and relative path\n",
    "raw_file_path = \"quotes.txt\"\n",
    "with open(raw_file_path, \"r\") as f_read:\n",
    "    quote = f_read.read()\n",
    "print(f_read)\n",
    "print(quote)"
   ]
  },
  {
   "cell_type": "code",
   "execution_count": 32,
   "metadata": {},
   "outputs": [
    {
     "name": "stdout",
     "output_type": "stream",
     "text": [
      "If we knew what it was we were doing, it would not be called research, would it? - Albert Einstein\n",
      "\n",
      "Time is a drug. Too much of it kills you. - Terry Pratchett\n",
      "\n",
      "\n",
      " An expert is a person who has made all the mistakes that can be made in a very narrow field - Niels Bohr\n",
      "\n",
      " Everything must be made as simple as possible. But not simpler. - Albert Einstein \n",
      "\n",
      "\n",
      " Nothing in life is to be feared, it is only to be understood. Now is the time to understand more, so that we may fear less. - Marie Curie \n",
      "\n",
      "If I have seen further it is by standing on the shoulders of Giants. - Isaac Newton\n",
      "If we knew what it was we were doing, it would not be called research, would it? - Albert Einstein\n",
      "\n",
      "Time is a drug. Too much of it kills you. - Terry Pratchett\n",
      "\n",
      "\n",
      " An expert is a person who has made all the mistakes that can be made in a very narrow field - Niels Bohr\n",
      "\n",
      " Everything must be made as simple as possible. But not simpler. - Albert Einstein \n",
      "\n",
      "\n",
      " Nothing in life is to be feared, it is only to be understood. Now is the time to understand more, so that we may fear less. - Marie Curie \n",
      "\n",
      "If I have seen further it is by standing on the shoulders of Giants. - Isaac Newton\n",
      "If we knew what it was we were doing, it would not be called research, would it? - Albert Einstein\n",
      "\n",
      "Time is a drug. Too much of it kills you. - Terry Pratchett\n",
      "\n",
      "\n",
      " An expert is a person who has made all the mistakes that can be made in a very narrow field - Niels Bohr\n",
      "\n",
      " Everything must be made as simple as possible. But not simpler. - Albert Einstein \n",
      "\n",
      "\n",
      " Nothing in life is to be feared, it is only to be understood. Now is the time to understand more, so that we may fear less. - Marie Curie \n",
      "\n",
      "If I have seen further it is by standing on the shoulders of Giants. - Isaac Newton\n",
      "If we knew what it was we were doing, it would not be called research, would it? - Albert Einstein\n",
      "\n",
      "Time is a drug. Too much of it kills you. - Terry Pratchett\n",
      "\n",
      "\n",
      " An expert is a person who has made all the mistakes that can be made in a very narrow field - Niels Bohr\n",
      "\n",
      " Everything must be made as simple as possible. But not simpler. - Albert Einstein \n",
      "\n",
      "\n",
      " Nothing in life is to be feared, it is only to be understood. Now is the time to understand more, so that we may fear less. - Marie Curie \n",
      "\n",
      "If I have seen further it is by standing on the shoulders of Giants. - Isaac Newton\n",
      "If we knew what it was we were doing, it would not be called research, would it? - Albert Einstein\n",
      "\n",
      "Time is a drug. Too much of it kills you. - Terry Pratchett\n",
      "\n",
      "\n",
      " An expert is a person who has made all the mistakes that can be made in a very narrow field - Niels Bohr\n",
      "\n",
      " Everything must be made as simple as possible. But not simpler. - Albert Einstein \n",
      "\n",
      "\n",
      " Nothing in life is to be feared, it is only to be understood. Now is the time to understand more, so that we may fear less. - Marie Curie \n",
      "\n",
      "If I have seen further it is by standing on the shoulders of Giants. - Isaac Newton\n",
      "If we knew what it was we were doing, it would not be called research, would it? - Albert Einstein\n",
      "\n",
      "Time is a drug. Too much of it kills you. - Terry Pratchett\n",
      "\n",
      "\n",
      " An expert is a person who has made all the mistakes that can be made in a very narrow field - Niels Bohr\n",
      "\n",
      " Everything must be made as simple as possible. But not simpler. - Albert Einstein \n",
      "\n",
      "\n",
      " Nothing in life is to be feared, it is only to be understood. Now is the time to understand more, so that we may fear less. - Marie Curie \n",
      "\n",
      "If I have seen further it is by standing on the shoulders of Giants. - Isaac Newton\n",
      "If we knew what it was we were doing, it would not be called research, would it? - Albert Einstein\n",
      "\n",
      "Time is a drug. Too much of it kills you. - Terry Pratchett\n",
      "\n",
      "\n",
      " An expert is a person who has made all the mistakes that can be made in a very narrow field - Niels Bohr\n",
      "\n",
      " Everything must be made as simple as possible. But not simpler. - Albert Einstein \n",
      "\n",
      "\n",
      " Nothing in life is to be feared, it is only to be understood. Now is the time to understand more, so that we may fear less. - Marie Curie \n",
      "\n",
      "If I have seen further it is by standing on the shoulders of Giants. - Isaac Newton\n",
      "If we knew what it was we were doing, it would not be called research, would it? - Albert Einstein\n",
      "\n",
      "Time is a drug. Too much of it kills you. - Terry Pratchett\n",
      "\n",
      "\n",
      " An expert is a person who has made all the mistakes that can be made in a very narrow field - Niels Bohr\n",
      "\n",
      " Everything must be made as simple as possible. But not simpler. - Albert Einstein \n",
      "\n",
      "\n",
      " Nothing in life is to be feared, it is only to be understood. Now is the time to understand more, so that we may fear less. - Marie Curie \n",
      "\n",
      "If I have seen further it is by standing on the shoulders of Giants. - Isaac Newton\n",
      "If we knew what it was we were doing, it would not be called research, would it? - Albert Einstein\n",
      "\n",
      "Time is a drug. Too much of it kills you. - Terry Pratchett\n",
      "\n",
      "\n",
      " An expert is a person who has made all the mistakes that can be made in a very narrow field - Niels Bohr\n",
      "\n",
      " Everything must be made as simple as possible. But not simpler. - Albert Einstein \n",
      "\n",
      "\n",
      " Nothing in life is to be feared, it is only to be understood. Now is the time to understand more, so that we may fear less. - Marie Curie \n",
      "\n",
      "If I have seen further it is by standing on the shoulders of Giants. - Isaac Newton\n",
      "If we knew what it was we were doing, it would not be called research, would it? - Albert Einstein\n",
      "\n",
      "Time is a drug. Too much of it kills you. - Terry Pratchett\n",
      "\n",
      "\n",
      " An expert is a person who has made all the mistakes that can be made in a very narrow field - Niels Bohr\n",
      "\n",
      " Everything must be made as simple as possible. But not simpler. - Albert Einstein \n",
      "\n",
      "\n",
      " Nothing in life is to be feared, it is only to be understood. Now is the time to understand more, so that we may fear less. - Marie Curie \n",
      "\n",
      "If I have seen further it is by standing on the shoulders of Giants. - Isaac Newton\n",
      "If we knew what it was we were doing, it would not be called research, would it? - Albert Einstein\n",
      "\n",
      "Time is a drug. Too much of it kills you. - Terry Pratchett\n",
      "\n",
      "\n",
      " An expert is a person who has made all the mistakes that can be made in a very narrow field - Niels Bohr\n",
      "\n",
      " Everything must be made as simple as possible. But not simpler. - Albert Einstein \n",
      "\n",
      "\n",
      " Nothing in life is to be feared, it is only to be understood. Now is the time to understand more, so that we may fear less. - Marie Curie \n",
      "\n",
      "If I have seen further it is by standing on the shoulders of Giants. - Isaac Newton\n",
      "If we knew what it was we were doing, it would not be called research, would it? - Albert Einstein\n",
      "\n",
      "Time is a drug. Too much of it kills you. - Terry Pratchett\n",
      "\n",
      "\n",
      " An expert is a person who has made all the mistakes that can be made in a very narrow field - Niels Bohr\n",
      "\n",
      " Everything must be made as simple as possible. But not simpler. - Albert Einstein \n",
      "\n",
      "\n",
      " Nothing in life is to be feared, it is only to be understood. Now is the time to understand more, so that we may fear less. - Marie Curie \n",
      "\n",
      "If I have seen further it is by standing on the shoulders of Giants. - Isaac Newton\n",
      "If we knew what it was we were doing, it would not be called research, would it? - Albert Einstein\n",
      "\n",
      "Time is a drug. Too much of it kills you. - Terry Pratchett\n",
      "\n",
      "\n",
      " An expert is a person who has made all the mistakes that can be made in a very narrow field - Niels Bohr\n",
      "\n",
      " Everything must be made as simple as possible. But not simpler. - Albert Einstein \n",
      "\n",
      "\n",
      " Nothing in life is to be feared, it is only to be understood. Now is the time to understand more, so that we may fear less. - Marie Curie \n",
      "\n",
      "If I have seen further it is by standing on the shoulders of Giants. - Isaac Newton\n"
     ]
    }
   ],
   "source": [
    "# open two files (one with r mode and another with w mode)\n",
    "with open(raw_file_path, \"r\") as f_read:\n",
    "    for qoute in f_read:\n",
    "        ## data cleaning \n",
    "        quote = quote.strip(\" \\n\") # replace the quotes with modified quotes\n",
    "        qoute = re.sub(\" +\", \" \", quote) # replace \n",
    "        ## print each line  \n",
    "        \n",
    "        if quote != \"\":\n",
    "            with open(\"clean_quotes.txt\", \"a\") as f_write:\n",
    "                f_write.write(f\"{i}. {quote}\")\n",
    "                i +=1\n",
    "                print(qoute)"
   ]
  }
 ],
 "metadata": {
  "kernelspec": {
   "display_name": ".venv",
   "language": "python",
   "name": "python3"
  },
  "language_info": {
   "codemirror_mode": {
    "name": "ipython",
    "version": 3
   },
   "file_extension": ".py",
   "mimetype": "text/x-python",
   "name": "python",
   "nbconvert_exporter": "python",
   "pygments_lexer": "ipython3",
   "version": "3.12.10"
  }
 },
 "nbformat": 4,
 "nbformat_minor": 2
}
