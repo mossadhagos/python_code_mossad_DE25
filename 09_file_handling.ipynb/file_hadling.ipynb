{
 "cells": [
  {
   "cell_type": "markdown",
   "metadata": {},
   "source": [
    "## file handling \n",
    "- reading text files (.txt)\n",
    "- we need to\n",
    "    -read the file\n",
    "    - clean contents\n",
    "    - write the cleaned contents to new filw\n",
    "- we foucus now on text/string "
   ]
  },
  {
   "cell_type": "markdown",
   "metadata": {},
   "source": [
    "# read file \n",
    "open the file directly"
   ]
  },
  {
   "cell_type": "code",
   "execution_count": 8,
   "metadata": {},
   "outputs": [
    {
     "name": "stdout",
     "output_type": "stream",
     "text": [
      "<_io.TextIOWrapper name='test.txt' mode='r' encoding='UTF-8'>\n",
      "jag är best \n",
      "jag är hemd \n",
      "jag är batman \n"
     ]
    }
   ],
   "source": [
    "# open the file \n",
    "f = open(\"test.txt\", \"r\") # the first argument is a path!\n",
    "print(f)\n",
    "\n",
    "# save the content of the file into a variable \n",
    "text = f.read()\n",
    "print(text)\n",
    "\n",
    "# close the file\n",
    "f.close()"
   ]
  },
  {
   "cell_type": "markdown",
   "metadata": {},
   "source": [
    "# open the file with (with) statement\n"
   ]
  },
  {
   "cell_type": "code",
   "execution_count": 9,
   "metadata": {},
   "outputs": [
    {
     "name": "stdout",
     "output_type": "stream",
     "text": [
      "jag är best \n",
      "jag är hemd \n",
      "jag är batman \n"
     ]
    }
   ],
   "source": [
    "with open(\"test.txt\", \"r\") as f:\n",
    "    text = f.read()\n",
    "    print(text)\n",
    "    # with statement automatically closes the file"
   ]
  }
 ],
 "metadata": {
  "kernelspec": {
   "display_name": ".venv",
   "language": "python",
   "name": "python3"
  },
  "language_info": {
   "codemirror_mode": {
    "name": "ipython",
    "version": 3
   },
   "file_extension": ".py",
   "mimetype": "text/x-python",
   "name": "python",
   "nbconvert_exporter": "python",
   "pygments_lexer": "ipython3",
   "version": "3.12.10"
  }
 },
 "nbformat": 4,
 "nbformat_minor": 2
}
