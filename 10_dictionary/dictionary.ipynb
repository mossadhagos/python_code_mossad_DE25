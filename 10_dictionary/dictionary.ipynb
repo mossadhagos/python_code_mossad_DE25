{
 "cells": [
  {
   "cell_type": "markdown",
   "metadata": {},
   "source": [
    "# Dictionary\n",
    " \n",
    "- aslo collection data type\n",
    "- the data is storde in key -value pairs"
   ]
  },
  {
   "cell_type": "markdown",
   "metadata": {},
   "source": [
    "# creat a dictionary with dict() class"
   ]
  },
  {
   "cell_type": "code",
   "execution_count": 1,
   "metadata": {},
   "outputs": [],
   "source": [
    "person = dict(\n",
    "    name = \"Mossad\",\n",
    "    age = 150.5, \n",
    "    work = \"spy\",\n",
    ")"
   ]
  },
  {
   "cell_type": "code",
   "execution_count": 2,
   "metadata": {},
   "outputs": [
    {
     "name": "stdout",
     "output_type": "stream",
     "text": [
      "Mossad\n",
      "spy\n"
     ]
    }
   ],
   "source": [
    "# retrieve data form this dictionary\n",
    "# make use of the kay for each value\n",
    "print(person[\"name\"])\n",
    "print(person[\"work\"])"
   ]
  },
  {
   "cell_type": "markdown",
   "metadata": {},
   "source": [
    "# create a dictionary whit {}"
   ]
  },
  {
   "cell_type": "code",
   "execution_count": 4,
   "metadata": {},
   "outputs": [],
   "source": [
    "person ={\n",
    "    \"name\": \"Will Smith\",\n",
    "    \"age\": 150.5,\n",
    "    \"work\": \"spy\",\n",
    "    \"intrests\": [\"football\", \"movies\", \"babyoli\"], # the value in one kay-value pair can another collection data type \n",
    "    \"address\": [\"cuntry: USA\", \"city: New York\", \"street: Diddys howuse\"], \n",
    "    }"
   ]
  },
  {
   "cell_type": "code",
   "execution_count": 5,
   "metadata": {},
   "outputs": [
    {
     "name": "stdout",
     "output_type": "stream",
     "text": [
      "Will Smith\n",
      "spy\n",
      "150.5\n"
     ]
    }
   ],
   "source": [
    "print(person[\"name\"])\n",
    "print(person[\"work\"])\n",
    "print(person[\"age\"])\n"
   ]
  },
  {
   "cell_type": "code",
   "execution_count": 20,
   "metadata": {},
   "outputs": [
    {
     "name": "stdout",
     "output_type": "stream",
     "text": [
      "football\n",
      "street: Diddys howuse\n"
     ]
    }
   ],
   "source": [
    "# only print one intrest\n",
    "print(person[\"intrests\"][0])\n",
    "\n",
    "# only print one address\n",
    "print(person[\"address\"][2])"
   ]
  },
  {
   "cell_type": "markdown",
   "metadata": {},
   "source": [
    "### Iterate over a dictionary "
   ]
  },
  {
   "cell_type": "code",
   "execution_count": 23,
   "metadata": {},
   "outputs": [],
   "source": [
    "words = {\n",
    "     \"data structure\": \" means of storing data\",\n",
    "     \"regression\": \" a function to best fit a set of data\",\n",
    "     \"method\": \"a fuction boud to an object\",\n",
    "}"
   ]
  },
  {
   "cell_type": "code",
   "execution_count": 24,
   "metadata": {},
   "outputs": [
    {
     "name": "stdout",
     "output_type": "stream",
     "text": [
      "kay: data structure\n",
      "value:  means of storing data\n",
      "--------\n",
      "kay: regression\n",
      "value:  a function to best fit a set of data\n",
      "--------\n",
      "kay: method\n",
      "value: a fuction boud to an object\n",
      "--------\n"
     ]
    }
   ],
   "source": [
    "# ireative over both keys and values\n",
    "for kay, value in words.items():\n",
    "    print(f\"kay: {kay}\")\n",
    "    print(f\"value: {value}\")\n",
    "    print(\"--------\")\n",
    "    "
   ]
  },
  {
   "cell_type": "code",
   "execution_count": 31,
   "metadata": {},
   "outputs": [
    {
     "name": "stdout",
     "output_type": "stream",
     "text": [
      "value:  means of storing data\n",
      "-----------\n",
      "value:  a function to best fit a set of data\n",
      "-----------\n",
      "value: a fuction boud to an object\n",
      "-----------\n"
     ]
    }
   ],
   "source": [
    "# Interative over values\n",
    "for value in words.values():\n",
    "    print(f\"value: {value}\")\n",
    "    print(\"-----------\")"
   ]
  },
  {
   "cell_type": "markdown",
   "metadata": {},
   "source": [
    "## dictionary comprehension\n"
   ]
  },
  {
   "cell_type": "code",
   "execution_count": 47,
   "metadata": {},
   "outputs": [
    {
     "data": {
      "text/plain": [
       "{'f': 0, 'E': 10, 'D': 20, 'C': 30, 'B': 40, 'A': 50}"
      ]
     },
     "execution_count": 47,
     "metadata": {},
     "output_type": "execute_result"
    }
   ],
   "source": [
    "# we want to produce a dictionary called grade_limeet \n",
    "\n",
    "# create this dictionary from scratch \n",
    "grade_limet = {\n",
    "             \"f\": 0,\n",
    "             \"E\": 10,\n",
    "             \"D\": 20,\n",
    "             \"C\": 30,\n",
    "             \"B\": 40,\n",
    "             \"A\": 50\n",
    "             }\n",
    "grade_limet"
   ]
  },
  {
   "cell_type": "code",
   "execution_count": 59,
   "metadata": {},
   "outputs": [
    {
     "name": "stdout",
     "output_type": "stream",
     "text": [
      "0\n",
      "F\n",
      "1\n",
      "E\n",
      "2\n",
      "D\n",
      "3\n",
      "C\n",
      "4\n",
      "B\n",
      "5\n",
      "A\n"
     ]
    },
    {
     "data": {
      "text/plain": [
       "{'F': 0, 'E': 10, 'D': 20, 'C': 30, 'B': 40, 'A': 50}"
      ]
     },
     "execution_count": 59,
     "metadata": {},
     "output_type": "execute_result"
    }
   ],
   "source": [
    "# create the same dictionary but with dictionary comprehension\n",
    "for i, grade in enumerate(\"FEDCBA\"):\n",
    "    print(i)\n",
    "    print(grade)\n",
    "    \n",
    "# create the dictionary now \n",
    "grade_limet = {grade: i*10 for i, grade in enumerate(\"FEDCBA\")}\n",
    "\n",
    "grade_limet "
   ]
  },
  {
   "cell_type": "code",
   "execution_count": 63,
   "metadata": {},
   "outputs": [
    {
     "data": {
      "text/plain": [
       "{'F': 0, 'E': 10, 'D': 20, 'C': 30, 'B': 40, 'A': 50}"
      ]
     },
     "execution_count": 63,
     "metadata": {},
     "output_type": "execute_result"
    }
   ],
   "source": [
    "grade_limet = {grade: i*10 for i, grade in enumerate(\"FEDCBA\")}\n",
    "\n",
    "grade_limet"
   ]
  }
 ],
 "metadata": {
  "kernelspec": {
   "display_name": ".venv",
   "language": "python",
   "name": "python3"
  },
  "language_info": {
   "codemirror_mode": {
    "name": "ipython",
    "version": 3
   },
   "file_extension": ".py",
   "mimetype": "text/x-python",
   "name": "python",
   "nbconvert_exporter": "python",
   "pygments_lexer": "ipython3",
   "version": "3.12.10"
  }
 },
 "nbformat": 4,
 "nbformat_minor": 2
}
