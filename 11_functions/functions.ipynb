{
 "cells": [
  {
   "cell_type": "code",
   "execution_count": 1,
   "metadata": {},
   "outputs": [],
   "source": [
    "def my_fruits(fruits_like, fruits_hate):\n",
    "    print(f\"I like to eat   {fruit_like}\")\n",
    "    print(f\"but i hate to eat  {fruit_hate}\")\n",
    "    return None\n"
   ]
  },
  {
   "cell_type": "code",
   "execution_count": 2,
   "metadata": {},
   "outputs": [
    {
     "name": "stdout",
     "output_type": "stream",
     "text": [
      "I like to eat   mango\n",
      "but i hate to eat  banana\n"
     ]
    }
   ],
   "source": [
    "my_fruits(\"mango\", \"banana\")"
   ]
  },
  {
   "cell_type": "markdown",
   "metadata": {},
   "source": [
    "## kayword arguments \n"
   ]
  },
  {
   "cell_type": "code",
   "execution_count": 6,
   "metadata": {},
   "outputs": [
    {
     "name": "stdout",
     "output_type": "stream",
     "text": [
      "I like to eat   banana\n",
      "but i hate to eat  mango\n"
     ]
    }
   ],
   "source": [
    "# if you don't want to remember the position of the arguments, provide the name of the argument \n",
    "my_fruits(fruits_hate = \"mango\", fruits_like = \"banana\")"
   ]
  },
  {
   "cell_type": "code",
   "execution_count": 14,
   "metadata": {},
   "outputs": [],
   "source": [
    "# suppoes that i want to print out all the fruits that are inputed as arguments to the function\n",
    "# we can use a symbol * in paremeter \n",
    "\n",
    "def print_fruits(*fruits): # * has two menings: postional arguments and the nr of all be unknown \n",
    "    for fruit in fruits:\n",
    "        print(fruit)"
   ]
  },
  {
   "cell_type": "code",
   "execution_count": 13,
   "metadata": {},
   "outputs": [
    {
     "name": "stdout",
     "output_type": "stream",
     "text": [
      "mango\n",
      "banana\n",
      "apple\n",
      "orange\n",
      "kiwi\n"
     ]
    }
   ],
   "source": [
    "print_fruits(\"mango\", \"banana\", \"apple\", \"orange\", \"kiwi\")"
   ]
  },
  {
   "cell_type": "markdown",
   "metadata": {},
   "source": [
    "## unknown number of kayword arguments "
   ]
  },
  {
   "cell_type": "code",
   "execution_count": 16,
   "metadata": {},
   "outputs": [],
   "source": [
    "def print_nr_fruits(**fruits):\n",
    "    for kay, value in fruits.items():\n",
    "        print(kay, value)\n",
    "    return type(fruits)"
   ]
  },
  {
   "cell_type": "code",
   "execution_count": 19,
   "metadata": {},
   "outputs": [
    {
     "name": "stdout",
     "output_type": "stream",
     "text": [
      "fruits1 mogo\n",
      "fruits2 banana\n",
      "fruits3 apple\n",
      "fruits4 orange\n",
      "fruits5 kiwi\n"
     ]
    },
    {
     "data": {
      "text/plain": [
       "dict"
      ]
     },
     "execution_count": 19,
     "metadata": {},
     "output_type": "execute_result"
    }
   ],
   "source": [
    "print_nr_fruits(fruits1=\"mogo\", fruits2=\"banana\", fruits3=\"apple\", fruits4=\"orange\", fruits5=\"kiwi\")"
   ]
  }
 ],
 "metadata": {
  "kernelspec": {
   "display_name": ".venv",
   "language": "python",
   "name": "python3"
  },
  "language_info": {
   "codemirror_mode": {
    "name": "ipython",
    "version": 3
   },
   "file_extension": ".py",
   "mimetype": "text/x-python",
   "name": "python",
   "nbconvert_exporter": "python",
   "pygments_lexer": "ipython3",
   "version": "3.12.10"
  }
 },
 "nbformat": 4,
 "nbformat_minor": 2
}
