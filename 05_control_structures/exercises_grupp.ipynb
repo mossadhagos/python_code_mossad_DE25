{
 "cells": [
  {
   "cell_type": "markdown",
   "metadata": {},
   "source": [
    "##### The first code of this exercises\n",
    "- the output was not the desierd one, i tryde somting else and got the output i wanted."
   ]
  },
  {
   "cell_type": "code",
   "execution_count": null,
   "metadata": {},
   "outputs": [],
   "source": [
    "furt = \"apple\"\n",
    "pris = 10 \n",
    "student = 25 \n",
    "pensioner = 65\n",
    "\n",
    "is_student = input(\"Are you a student?\")\n",
    "if is_student == \"yes\":\n",
    "    student = 18 \n",
    "    price = price * 0,7 "
   ]
  },
  {
   "cell_type": "code",
   "execution_count": null,
   "metadata": {},
   "outputs": [],
   "source": [
    "# number of apple costumer whats to buy an apple\n",
    "num_apple_costumer = int(input(\"Enter the number of apple costumer: \"))\n",
    "costumer = input(\"are you a stundent or a pensioner or none: \")\n",
    "# price of an apple in koroner\n",
    "price_apple = 10\n",
    "\n",
    "# calculate the total price \n",
    "if costumer == \"stundent\":\n",
    "    price_apple = price_apple * 0.7\n",
    "elif costumer == \"pensioner\":\n",
    "    price_apple = price_apple * 0.5\n",
    "else:\n",
    "    price_apple = price_apple * 1\n",
    "\n",
    "total_price = price_apple * num_apple_costumer\n",
    "print(\"The total price is: \", total_price, \"koroner\")\n"
   ]
  }
 ],
 "metadata": {
  "kernelspec": {
   "display_name": ".venv",
   "language": "python",
   "name": "python3"
  },
  "language_info": {
   "codemirror_mode": {
    "name": "ipython",
    "version": 3
   },
   "file_extension": ".py",
   "mimetype": "text/x-python",
   "name": "python",
   "nbconvert_exporter": "python",
   "pygments_lexer": "ipython3",
   "version": "3.12.10"
  }
 },
 "nbformat": 4,
 "nbformat_minor": 2
}
