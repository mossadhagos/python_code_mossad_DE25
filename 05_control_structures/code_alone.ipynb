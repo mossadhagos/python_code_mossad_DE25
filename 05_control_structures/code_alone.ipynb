{
 "cells": [
  {
   "cell_type": "code",
   "execution_count": 32,
   "metadata": {},
   "outputs": [],
   "source": [
    "number = 5"
   ]
  },
  {
   "cell_type": "code",
   "execution_count": 33,
   "metadata": {},
   "outputs": [
    {
     "name": "stdout",
     "output_type": "stream",
     "text": [
      "it is an odd number and the value assigned to the variable is 5\n"
     ]
    }
   ],
   "source": [
    "# check if the number assigned to the variable is odd or even\n",
    "\n",
    "if number % 2 == 0: \n",
    "    print(f\"it is an even number and the value assigned to the variable is {number}\")\n",
    "else:\n",
    "    print(f\"it is an odd number and the value assigned to the variable is {number}\")\n"
   ]
  },
  {
   "cell_type": "code",
   "execution_count": 34,
   "metadata": {},
   "outputs": [],
   "source": [
    "number = 100"
   ]
  },
  {
   "cell_type": "code",
   "execution_count": 35,
   "metadata": {},
   "outputs": [
    {
     "name": "stdout",
     "output_type": "stream",
     "text": [
      "this is divisibel by 5. check also if it is divisible by 2\n",
      "this is an even number.\n"
     ]
    }
   ],
   "source": [
    "if number % 5 == 0:\n",
    "    print(\"this is divisibel by 5. check also if it is divisible by 2\")\n",
    "    if number % 2 == 0:\n",
    "        print(\"this is an even number.\")\n",
    "    else: \n",
    "        print(\"this is odd number.\")\n",
    "else :\n",
    "    print(\"this is not divisible by 5\")"
   ]
  },
  {
   "cell_type": "code",
   "execution_count": 36,
   "metadata": {},
   "outputs": [
    {
     "name": "stdout",
     "output_type": "stream",
     "text": [
      "even number\n"
     ]
    }
   ],
   "source": [
    "# one line if else statement\n",
    "# good for simple coding and clean code\n",
    "\n",
    "print(\"even number\") if number % 2 == 0 else print (\"odd number\")\n"
   ]
  },
  {
   "cell_type": "code",
   "execution_count": 37,
   "metadata": {},
   "outputs": [],
   "source": [
    "name = \"mossad\"\n",
    "gender = \"male\"\n",
    "age = 25"
   ]
  },
  {
   "cell_type": "code",
   "execution_count": 38,
   "metadata": {},
   "outputs": [
    {
     "name": "stdout",
     "output_type": "stream",
     "text": [
      "there is letter O in the name variable\n"
     ]
    }
   ],
   "source": [
    "if \"o\" in name:\n",
    "    print(\"there is letter O in the name variable\")\n",
    "     \n",
    "    "
   ]
  },
  {
   "cell_type": "code",
   "execution_count": 39,
   "metadata": {},
   "outputs": [],
   "source": [
    "if \"0\" in name: print (\"There is the letter O in the name variable\")"
   ]
  },
  {
   "cell_type": "code",
   "execution_count": 40,
   "metadata": {},
   "outputs": [
    {
     "name": "stdout",
     "output_type": "stream",
     "text": [
      "0\n",
      "1\n",
      "2\n",
      "3\n",
      "4\n"
     ]
    }
   ],
   "source": [
    "# a simple example for loop \n",
    "\n",
    "# range (n) function generates a sequence of numbers from 0 to n-1\n",
    "for i in range(5):\n",
    "    print(i)"
   ]
  },
  {
   "cell_type": "code",
   "execution_count": 41,
   "metadata": {},
   "outputs": [
    {
     "name": "stdout",
     "output_type": "stream",
     "text": [
      "0\n",
      "1\n",
      "2\n",
      "3\n",
      "4\n"
     ]
    }
   ],
   "source": [
    "i = 0\n",
    "\n",
    "while i < 5:\n",
    "    print(i)\n",
    "    i += 1"
   ]
  },
  {
   "cell_type": "code",
   "execution_count": 42,
   "metadata": {},
   "outputs": [
    {
     "name": "stdout",
     "output_type": "stream",
     "text": [
      "0\n",
      "1\n",
      "2\n",
      "3\n",
      "4\n"
     ]
    }
   ],
   "source": [
    "# a simple example \n",
    "\n",
    "for i in range(5):\n",
    "    \n",
    "    print(i)"
   ]
  },
  {
   "cell_type": "code",
   "execution_count": 43,
   "metadata": {},
   "outputs": [],
   "source": [
    "year = 0\n",
    "birds = 8000  "
   ]
  },
  {
   "cell_type": "code",
   "execution_count": 44,
   "metadata": {},
   "outputs": [
    {
     "name": "stdout",
     "output_type": "stream",
     "text": [
      "it took 0 years for the birds to be less than or equal to 8000\n"
     ]
    }
   ],
   "source": [
    "# provide a conmdition, not the nummber of looping times with while statement\n",
    "\n",
    "while birds > 8000: \n",
    "    print (f\"Currently, this is year {year} and the number of birds is {birds:.2f}\")\n",
    "    birds /= 2\n",
    "    print(f\"At the end of year {year}, the number of birds is {birds:.f}\")\n",
    "    print (\"-----------------------------------------\")\n",
    "    year += 1\n",
    "print(f\"it took {year} years for the birds to be less than or equal to {birds:.0f}\")"
   ]
  },
  {
   "cell_type": "code",
   "execution_count": 45,
   "metadata": {},
   "outputs": [
    {
     "name": "stdout",
     "output_type": "stream",
     "text": [
      "0\n",
      "1\n",
      "2\n",
      "3\n",
      "4\n"
     ]
    }
   ],
   "source": [
    "i = 0\n",
    "\n",
    "while True:\n",
    "    print(i)\n",
    "    i += 1\n",
    "   \n",
    "    if i >= 5:\n",
    "        break"
   ]
  },
  {
   "cell_type": "markdown",
   "metadata": {},
   "source": [
    "#### range() function\n",
    "- with only one argument, like range(5), end argumet \n",
    "- with three arguments, like range(1, 5, 5), start, end, step argument\n",
    "- "
   ]
  },
  {
   "cell_type": "code",
   "execution_count": 47,
   "metadata": {},
   "outputs": [
    {
     "name": "stdout",
     "output_type": "stream",
     "text": [
      "1\n",
      "3\n"
     ]
    }
   ],
   "source": [
    "# an example with thee arguments\n",
    "for i in range(1, 5, 2):\n",
    "    print(i)"
   ]
  },
  {
   "cell_type": "code",
   "execution_count": 52,
   "metadata": {},
   "outputs": [
    {
     "name": "stdout",
     "output_type": "stream",
     "text": [
      "1 3 "
     ]
    }
   ],
   "source": [
    "# an example with three arguments\n",
    "# for canseling the defult three arguments\n",
    "\n",
    "for i in range(1, 5, 2):\n",
    "    print(i, end=\" \")"
   ]
  }
 ],
 "metadata": {
  "kernelspec": {
   "display_name": ".venv",
   "language": "python",
   "name": "python3"
  },
  "language_info": {
   "codemirror_mode": {
    "name": "ipython",
    "version": 3
   },
   "file_extension": ".py",
   "mimetype": "text/x-python",
   "name": "python",
   "nbconvert_exporter": "python",
   "pygments_lexer": "ipython3",
   "version": "3.12.10"
  }
 },
 "nbformat": 4,
 "nbformat_minor": 2
}
