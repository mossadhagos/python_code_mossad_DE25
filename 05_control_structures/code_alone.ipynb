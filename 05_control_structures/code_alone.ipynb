{
 "cells": [
  {
   "cell_type": "code",
   "execution_count": 2,
   "metadata": {},
   "outputs": [],
   "source": [
    "number = 5"
   ]
  },
  {
   "cell_type": "code",
   "execution_count": 3,
   "metadata": {},
   "outputs": [
    {
     "name": "stdout",
     "output_type": "stream",
     "text": [
      "it is an odd number and the value assigned to the variable is 5\n"
     ]
    }
   ],
   "source": [
    "# check if the number assigned to the variable is odd or even\n",
    "\n",
    "if number % 2 == 0: \n",
    "    print(f\"it is an even number and the value assigned to the variable is {number}\")\n",
    "else:\n",
    "    print(f\"it is an odd number and the value assigned to the variable is {number}\")\n"
   ]
  },
  {
   "cell_type": "code",
   "execution_count": 4,
   "metadata": {},
   "outputs": [],
   "source": [
    "number = 100"
   ]
  },
  {
   "cell_type": "code",
   "execution_count": 6,
   "metadata": {},
   "outputs": [
    {
     "name": "stdout",
     "output_type": "stream",
     "text": [
      "this is divisibel by 5. check also if it is divisible by 2\n",
      "this is an even number.\n"
     ]
    }
   ],
   "source": [
    "if number % 5 == 0:\n",
    "    print(\"this is divisibel by 5. check also if it is divisible by 2\")\n",
    "    if number % 2 == 0:\n",
    "        print(\"this is an even number.\")\n",
    "    else: \n",
    "        print(\"this is odd number.\")\n",
    "else :\n",
    "    print(\"this is not divisible by 5\")"
   ]
  },
  {
   "cell_type": "code",
   "execution_count": 7,
   "metadata": {},
   "outputs": [
    {
     "name": "stdout",
     "output_type": "stream",
     "text": [
      "even number\n"
     ]
    }
   ],
   "source": [
    "# one line if else statement\n",
    "# good for simple coding and clean code\n",
    "\n",
    "print(\"even number\") if number % 2 == 0 else print (\"odd number\")\n"
   ]
  },
  {
   "cell_type": "code",
   "execution_count": 8,
   "metadata": {},
   "outputs": [],
   "source": [
    "name = \"mossad\"\n",
    "gender = \"male\"\n",
    "age = 25"
   ]
  },
  {
   "cell_type": "code",
   "execution_count": 11,
   "metadata": {},
   "outputs": [
    {
     "name": "stdout",
     "output_type": "stream",
     "text": [
      "there is letter O in the name variable\n"
     ]
    }
   ],
   "source": [
    "if \"o\" in name:\n",
    "    print(\"there is letter O in the name variable\")\n",
    "     \n",
    "    "
   ]
  },
  {
   "cell_type": "code",
   "execution_count": 12,
   "metadata": {},
   "outputs": [],
   "source": [
    "if \"0\" in name: print (\"There is the letter O in the name variable\")"
   ]
  },
  {
   "cell_type": "code",
   "execution_count": 1,
   "metadata": {},
   "outputs": [
    {
     "name": "stdout",
     "output_type": "stream",
     "text": [
      "0\n",
      "1\n",
      "2\n",
      "3\n",
      "4\n"
     ]
    }
   ],
   "source": [
    "# a simple example for loop \n",
    "\n",
    "# range (n) function generates a sequence of numbers from 0 to n-1\n",
    "for i in range(5):\n",
    "    print(i)"
   ]
  },
  {
   "cell_type": "code",
   "execution_count": 3,
   "metadata": {},
   "outputs": [
    {
     "name": "stdout",
     "output_type": "stream",
     "text": [
      "0\n",
      "1\n",
      "2\n",
      "3\n",
      "4\n"
     ]
    }
   ],
   "source": [
    "i = 0\n",
    "\n",
    "while i < 5:\n",
    "    print(i)\n",
    "    i += 1"
   ]
  },
  {
   "cell_type": "code",
   "execution_count": 5,
   "metadata": {},
   "outputs": [
    {
     "name": "stdout",
     "output_type": "stream",
     "text": [
      "0\n",
      "1\n",
      "2\n",
      "3\n",
      "4\n"
     ]
    }
   ],
   "source": [
    "# a simple example \n",
    "\n",
    "for i in range(5):\n",
    "    \n",
    "    print(i)"
   ]
  },
  {
   "cell_type": "code",
   "execution_count": 13,
   "metadata": {},
   "outputs": [],
   "source": [
    "year = 0\n",
    "birds = 8000  "
   ]
  },
  {
   "cell_type": "code",
   "execution_count": 18,
   "metadata": {},
   "outputs": [],
   "source": [
    "# provide a conmdition, not the nummber of looping times with while statement\n",
    "while birds > 8000: \n",
    "    print (f\"Currently, this is year {year} and the number of birds is {birds}\")\n",
    "    birds /= 2\n",
    "    print(f\"at the end of year {year}, the number of birds is {birds}\")\n",
    "    print (\"--------------------------------------------------\")\n",
    "    year += 1"
   ]
  }
 ],
 "metadata": {
  "kernelspec": {
   "display_name": ".venv",
   "language": "python",
   "name": "python3"
  },
  "language_info": {
   "codemirror_mode": {
    "name": "ipython",
    "version": 3
   },
   "file_extension": ".py",
   "mimetype": "text/x-python",
   "name": "python",
   "nbconvert_exporter": "python",
   "pygments_lexer": "ipython3",
   "version": "3.12.10"
  }
 },
 "nbformat": 4,
 "nbformat_minor": 2
}
