{
 "cells": [
  {
   "cell_type": "code",
   "execution_count": 2,
   "metadata": {},
   "outputs": [],
   "source": [
    "number = 5"
   ]
  },
  {
   "cell_type": "code",
   "execution_count": 3,
   "metadata": {},
   "outputs": [
    {
     "name": "stdout",
     "output_type": "stream",
     "text": [
      "it is an odd number and the value assigned to the variable is 5\n"
     ]
    }
   ],
   "source": [
    "# check if the number assigned to the variable is odd or even\n",
    "\n",
    "if number % 2 == 0: \n",
    "    print(f\"it is an even number and the value assigned to the variable is {number}\")\n",
    "else:\n",
    "    print(f\"it is an odd number and the value assigned to the variable is {number}\")\n"
   ]
  },
  {
   "cell_type": "code",
   "execution_count": 4,
   "metadata": {},
   "outputs": [],
   "source": [
    "number = 100"
   ]
  },
  {
   "cell_type": "code",
   "execution_count": 6,
   "metadata": {},
   "outputs": [
    {
     "name": "stdout",
     "output_type": "stream",
     "text": [
      "this is divisibel by 5. check also if it is divisible by 2\n",
      "this is an even number.\n"
     ]
    }
   ],
   "source": [
    "if number % 5 == 0:\n",
    "    print(\"this is divisibel by 5. check also if it is divisible by 2\")\n",
    "    if number % 2 == 0:\n",
    "        print(\"this is an even number.\")\n",
    "    else: \n",
    "        print(\"this is odd number.\")\n",
    "else :\n",
    "    print(\"this is not divisible by 5\")"
   ]
  },
  {
   "cell_type": "code",
   "execution_count": 7,
   "metadata": {},
   "outputs": [
    {
     "name": "stdout",
     "output_type": "stream",
     "text": [
      "even number\n"
     ]
    }
   ],
   "source": [
    "# one line if else statement\n",
    "# good for simple coding and clean code\n",
    "\n",
    "print(\"even number\") if number % 2 == 0 else print (\"odd number\")\n"
   ]
  },
  {
   "cell_type": "code",
   "execution_count": 8,
   "metadata": {},
   "outputs": [],
   "source": [
    "name = \"mossad\"\n",
    "gender = \"male\"\n",
    "age = 25"
   ]
  },
  {
   "cell_type": "code",
   "execution_count": 11,
   "metadata": {},
   "outputs": [
    {
     "name": "stdout",
     "output_type": "stream",
     "text": [
      "there is letter O in the name variable\n"
     ]
    }
   ],
   "source": [
    "if \"o\" in name:\n",
    "    print(\"there is letter O in the name variable\")\n",
    "     \n",
    "    "
   ]
  },
  {
   "cell_type": "code",
   "execution_count": 12,
   "metadata": {},
   "outputs": [],
   "source": [
    "if \"0\" in name: print (\"There is the letter O in the name variable\")"
   ]
  },
  {
   "cell_type": "code",
   "execution_count": null,
   "metadata": {},
   "outputs": [],
   "source": [
    "\n",
    "\n",
    "is_student = input(\"are you a student?\")  # Store the input in a variable\n",
    "if is_student == \"yes\": \n",
    "    student = 18  # Corrected the assignment\n",
    "    pris = pris * 0.7 # 30% rabbatt \n",
    "else: \n",
    "    input(\"ask how old are you?\")  # Fixed the else statement\n",
    "\n",
    "if pension >= 68:  # FIX: corrected \"pansion\" to \"pension\"\n",
    "        pris = pris * 0.5\n",
    "else: \n",
    "    print(f\"you have to py full rise pris!{pris}\")  # Fixed the else statement\n",
    "\n",
    "print(\"the pris is \" + str(pris) + \"kroner for a \" + frut)"
   ]
  }
 ],
 "metadata": {
  "kernelspec": {
   "display_name": ".venv",
   "language": "python",
   "name": "python3"
  },
  "language_info": {
   "codemirror_mode": {
    "name": "ipython",
    "version": 3
   },
   "file_extension": ".py",
   "mimetype": "text/x-python",
   "name": "python",
   "nbconvert_exporter": "python",
   "pygments_lexer": "ipython3",
   "version": "3.12.10"
  }
 },
 "nbformat": 4,
 "nbformat_minor": 2
}
