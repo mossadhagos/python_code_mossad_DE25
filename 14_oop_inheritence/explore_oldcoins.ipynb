{
 "cells": [
  {
   "cell_type": "markdown",
   "metadata": {},
   "source": [
    "# Exploring the modoule oldcoins"
   ]
  },
  {
   "cell_type": "code",
   "execution_count": 179,
   "metadata": {},
   "outputs": [
    {
     "data": {
      "text/plain": [
       "OldCoinStash(owner='Ragnar Lothbroke')"
      ]
     },
     "execution_count": 179,
     "metadata": {},
     "output_type": "execute_result"
    }
   ],
   "source": [
    "from oldcoins import OldCoinsStash\n",
    "\n",
    "stash_ragnar = OldCoinsStash(\"Ragnar Lothbroke\")\n",
    "stash_ragnar "
   ]
  },
  {
   "cell_type": "code",
   "execution_count": 180,
   "metadata": {},
   "outputs": [
    {
     "data": {
      "text/plain": [
       "'Coins in stash: 0 riksdaler, 0 skilling'"
      ]
     },
     "execution_count": 180,
     "metadata": {},
     "output_type": "execute_result"
    }
   ],
   "source": [
    "stash_ragnar.check_balance()"
   ]
  },
  {
   "cell_type": "code",
   "execution_count": 181,
   "metadata": {},
   "outputs": [
    {
     "data": {
      "text/plain": [
       "'Coins in stash: 50 riksdaler, 25 skilling'"
      ]
     },
     "execution_count": 181,
     "metadata": {},
     "output_type": "execute_result"
    }
   ],
   "source": [
    "stash_ragnar.deposit(riksdaler=50, skilling=25)\n",
    "stash_ragnar.check_balance()"
   ]
  },
  {
   "cell_type": "code",
   "execution_count": 182,
   "metadata": {},
   "outputs": [
    {
     "data": {
      "text/plain": [
       "OldCoinStash(owner='Bjorn')"
      ]
     },
     "execution_count": 182,
     "metadata": {},
     "output_type": "execute_result"
    }
   ],
   "source": [
    "stash_bjorn = OldCoinsStash(\"Bjorn\")\n",
    "stash_bjorn"
   ]
  },
  {
   "cell_type": "code",
   "execution_count": 183,
   "metadata": {},
   "outputs": [
    {
     "data": {
      "text/plain": [
       "'Coins in stash: 0 riksdaler, 0 skilling'"
      ]
     },
     "execution_count": 183,
     "metadata": {},
     "output_type": "execute_result"
    }
   ],
   "source": [
    "stash_bjorn.check_balance()"
   ]
  },
  {
   "cell_type": "markdown",
   "metadata": {},
   "source": [
    "# inheritanc"
   ]
  },
  {
   "cell_type": "code",
   "execution_count": 184,
   "metadata": {},
   "outputs": [
    {
     "name": "stdout",
     "output_type": "stream",
     "text": [
      "property 'name' of 'Person' object has no setter\n",
      "Örjan\n",
      "Örjan says hi\n"
     ]
    }
   ],
   "source": [
    "\n",
    "class Person:\n",
    "    def __init__(self, name: str, age: int):\n",
    "        self._name = name \n",
    "        self.age = age \n",
    "        \n",
    "    @property\n",
    "    def name (self):\n",
    "        return self._name\n",
    "    \n",
    "    @property\n",
    "    def age(self):\n",
    "        return self._age \n",
    "    \n",
    "    @age.setter\n",
    "    def age (self, value: int):\n",
    "        if not isinstance(value, int):\n",
    "            raise TypeError(f\"age must be data typ int, not {type(value)}\")\n",
    "        \n",
    "        if value <0 or value > 125:\n",
    "            raise  ValueError(f\"age must be between 0 and 125, not {value}\")\n",
    "        \n",
    "        self._age = value \n",
    "\n",
    "    def say_hi(self) -> None:\n",
    "        print(f\"{self.name} says hi\")\n",
    "    \n",
    "p1 = Person (\"Örjan\", 25)\n",
    "\n",
    "try:\n",
    "    # setter not defined \n",
    "    p1.name = \"Björn \"\n",
    "except AttributeError as err:\n",
    "    print(err)\n",
    "    \n",
    "# used getter \n",
    "print(p1.name)\n",
    "\n",
    "p1.say_hi()"
   ]
  },
  {
   "cell_type": "code",
   "execution_count": 185,
   "metadata": {},
   "outputs": [
    {
     "name": "stdout",
     "output_type": "stream",
     "text": [
      "age must be between 0 and 125, not -5\n",
      "age must be data typ int, not <class 'str'>\n"
     ]
    }
   ],
   "source": [
    "try:\n",
    "    p2 = Person(\"Ceda\", age = -5)\n",
    "except ValueError as err:\n",
    "    print(err)\n",
    "    \n",
    "try:\n",
    "    p3 = Person(\"Dadda\", age = \"femtio\")\n",
    "except TypeError as err:\n",
    "    print(err)"
   ]
  },
  {
   "cell_type": "markdown",
   "metadata": {},
   "source": [
    "# implement student"
   ]
  },
  {
   "cell_type": "code",
   "execution_count": 186,
   "metadata": {},
   "outputs": [
    {
     "name": "stdout",
     "output_type": "stream",
     "text": [
      "age must be between 0 and 125, not 126\n",
      "Student Dan 37 says hi in language Python\n"
     ]
    }
   ],
   "source": [
    "class Student(Person):\n",
    "    def __init__(self, name: str, age: int, language):\n",
    "        # this goes to the paren adn use its__init__\n",
    "        super().__init__(name, age)\n",
    "        self.language = language \n",
    "\n",
    "    def say_hi(self):\n",
    "        print(f\"Student {self.name} {self.age} says hi in language {self.language}\")\n",
    "    \n",
    "try:\n",
    "    s1 = Student (\"Björn\", 126, language = \"Svenska\")\n",
    "except ValueError as err:\n",
    "    print(err)\n",
    "    \n",
    "s2 = Student(\"Dan\", 37, language = \"Python\")\n",
    "s2.say_hi()"
   ]
  },
  {
   "cell_type": "code",
   "execution_count": 187,
   "metadata": {},
   "outputs": [
    {
     "name": "stdout",
     "output_type": "stream",
     "text": [
      "Ubbe says hi\n"
     ]
    },
    {
     "data": {
      "text/plain": [
       "OldCoinStash(owner='Ubbe')"
      ]
     },
     "execution_count": 187,
     "metadata": {},
     "output_type": "execute_result"
    }
   ],
   "source": [
    "from oldcoins import OldCoinsStash\n",
    "class Viking(Person):\n",
    "    def __init__ ( self, name:str, age: int) -> None:\n",
    "        super().__init__(name, age)\n",
    "        self.stash = OldCoinsStash(name)\n",
    "        \n",
    "        \n",
    "        \n",
    "viking_ubbe = Viking(\"Ubbe\", 35)\n",
    "viking_ubbe.say_hi()\n",
    "\n",
    "viking_ubbe.stash"
   ]
  },
  {
   "cell_type": "code",
   "execution_count": 188,
   "metadata": {},
   "outputs": [
    {
     "data": {
      "text/plain": [
       "'Coins in stash: 500 riksdaler, 10 skilling'"
      ]
     },
     "execution_count": 188,
     "metadata": {},
     "output_type": "execute_result"
    }
   ],
   "source": [
    "viking_ubbe.stash.deposit(500, 10)\n",
    "viking_ubbe.stash.check_balance()"
   ]
  },
  {
   "cell_type": "code",
   "execution_count": null,
   "metadata": {},
   "outputs": [],
   "source": [
    "viking_ivar = Viking (\"\")"
   ]
  },
  {
   "cell_type": "markdown",
   "metadata": {},
   "source": []
  }
 ],
 "metadata": {
  "kernelspec": {
   "display_name": ".venv",
   "language": "python",
   "name": "python3"
  },
  "language_info": {
   "codemirror_mode": {
    "name": "ipython",
    "version": 3
   },
   "file_extension": ".py",
   "mimetype": "text/x-python",
   "name": "python",
   "nbconvert_exporter": "python",
   "pygments_lexer": "ipython3",
   "version": "3.12.10"
  }
 },
 "nbformat": 4,
 "nbformat_minor": 2
}
