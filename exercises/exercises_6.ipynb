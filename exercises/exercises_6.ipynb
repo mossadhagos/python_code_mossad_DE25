{
 "cells": [
  {
   "cell_type": "markdown",
   "metadata": {},
   "source": [
    "# Exercise 6 - OOP"
   ]
  },
  {
   "cell_type": "markdown",
   "metadata": {},
   "source": [
    "#### 0. unit conversion"
   ]
  },
  {
   "cell_type": "code",
   "execution_count": 3,
   "metadata": {},
   "outputs": [
    {
     "name": "stdout",
     "output_type": "stream",
     "text": [
      "unit_converter.value = <property object at 0x10be45170>\n"
     ]
    }
   ],
   "source": [
    "from numbers import Number\n",
    "from utils import validate_positive_number\n",
    "\n",
    "class UnitConverter:\n",
    "    \n",
    "    def __init__(self, value: int | float ):\n",
    "        self.value = value \n",
    "    \n",
    "    @property\n",
    "    def value(self):\n",
    "        return self._value\n",
    "    \n",
    "    @value.setter\n",
    "    def value(self, new_value):\n",
    "        # valdation code \n",
    "        validate_positive_number(new_value)\n",
    "        \n",
    "        self._value = new_value\n",
    "    \n",
    "    def inch_to_cm(self):\n",
    "        return 2.54 * self.value\n",
    "    \n",
    "    def foot_to_meters(self):\n",
    "        return .3048 * self.value \n",
    "    \n",
    "    def pound_to_kg(self):\n",
    "        return 0,45359237 * self.value \n",
    "        \n",
    "unit_converter = UnitConverter\n",
    "\n",
    "print (f\"{unit_converter.value = }\")\n",
    "\n",
    "try:\n",
    "    unit_converter.value = 5\n",
    "except TypeError as err:\n",
    "    print(err) \n",
    "    \n",
    "try:\n",
    "    unit_converter.value = -5\n",
    "except TypeError as err:\n",
    "    print(err) \n",
    "    \n",
    "\n"
   ]
  },
  {
   "cell_type": "code",
   "execution_count": 4,
   "metadata": {},
   "outputs": [
    {
     "name": "stdout",
     "output_type": "stream",
     "text": [
      "i am a fish, my name is fisky\n",
      "i am a fish, my name is goldy\n",
      "i am a fox, my name is ylvis no one knows how i soud\n"
     ]
    }
   ],
   "source": [
    "class Fish:\n",
    "    def __init__(self, name):\n",
    "        self.name = name\n",
    "        \n",
    "    def __str__(self):\n",
    "        return f\"i am a fish, my name is {self.name}\"\n",
    "    \n",
    "    def speak(self):\n",
    "        return NotImplemented\n",
    "    \n",
    "class Fox:\n",
    "    def __init__(self, name):\n",
    "        self.name = name\n",
    "        \n",
    "    def __str__(self):\n",
    "        return f\"i am a fox, my name is {self.name} no one knows how i soud\"\n",
    "    \n",
    "    def speak(self):\n",
    "        return NotImplemented\n",
    "    \n",
    "    \n",
    "animals = [Fish(\"fisky\"), Fish(\"goldy\"), Fox (\"ylvis\")]\n",
    "    \n",
    "for animals in animals:\n",
    "    print(animals)\n",
    "    animals.speak()\n",
    "   "
   ]
  }
 ],
 "metadata": {
  "kernelspec": {
   "display_name": ".venv",
   "language": "python",
   "name": "python3"
  },
  "language_info": {
   "codemirror_mode": {
    "name": "ipython",
    "version": 3
   },
   "file_extension": ".py",
   "mimetype": "text/x-python",
   "name": "python",
   "nbconvert_exporter": "python",
   "pygments_lexer": "ipython3",
   "version": "3.12.10"
  }
 },
 "nbformat": 4,
 "nbformat_minor": 2
}
